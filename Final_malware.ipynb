{
  "nbformat": 4,
  "nbformat_minor": 0,
  "metadata": {
    "colab": {
      "name": "Final_malware.ipynb",
      "provenance": [],
      "collapsed_sections": [],
      "machine_shape": "hm",
      "authorship_tag": "ABX9TyO3zUe5iTkBwz4pkFpcQipx",
      "include_colab_link": true
    },
    "kernelspec": {
      "name": "python3",
      "display_name": "Python 3"
    },
    "accelerator": "TPU"
  },
  "cells": [
    {
      "cell_type": "markdown",
      "metadata": {
        "id": "view-in-github",
        "colab_type": "text"
      },
      "source": [
        "<a href=\"https://colab.research.google.com/github/sril1485/Data-sciecne-project/blob/master/Final_malware.ipynb\" target=\"_parent\"><img src=\"https://colab.research.google.com/assets/colab-badge.svg\" alt=\"Open In Colab\"/></a>"
      ]
    },
    {
      "cell_type": "code",
      "metadata": {
        "id": "pf-Ih8jdLtng",
        "colab_type": "code",
        "outputId": "31cb9056-97d6-4e3d-a6a9-fcfca4e78339",
        "colab": {
          "base_uri": "https://localhost:8080/",
          "height": 204
        }
      },
      "source": [
        "!pip install kaggle"
      ],
      "execution_count": 0,
      "outputs": [
        {
          "output_type": "stream",
          "text": [
            "Requirement already satisfied: kaggle in /usr/local/lib/python3.6/dist-packages (1.5.6)\n",
            "Requirement already satisfied: requests in /usr/local/lib/python3.6/dist-packages (from kaggle) (2.21.0)\n",
            "Requirement already satisfied: six>=1.10 in /usr/local/lib/python3.6/dist-packages (from kaggle) (1.12.0)\n",
            "Requirement already satisfied: python-slugify in /usr/local/lib/python3.6/dist-packages (from kaggle) (4.0.0)\n",
            "Requirement already satisfied: urllib3<1.25,>=1.21.1 in /usr/local/lib/python3.6/dist-packages (from kaggle) (1.24.3)\n",
            "Requirement already satisfied: python-dateutil in /usr/local/lib/python3.6/dist-packages (from kaggle) (2.6.1)\n",
            "Requirement already satisfied: tqdm in /usr/local/lib/python3.6/dist-packages (from kaggle) (4.28.1)\n",
            "Requirement already satisfied: certifi in /usr/local/lib/python3.6/dist-packages (from kaggle) (2019.11.28)\n",
            "Requirement already satisfied: idna<2.9,>=2.5 in /usr/local/lib/python3.6/dist-packages (from requests->kaggle) (2.8)\n",
            "Requirement already satisfied: chardet<3.1.0,>=3.0.2 in /usr/local/lib/python3.6/dist-packages (from requests->kaggle) (3.0.4)\n",
            "Requirement already satisfied: text-unidecode>=1.3 in /usr/local/lib/python3.6/dist-packages (from python-slugify->kaggle) (1.3)\n"
          ],
          "name": "stdout"
        }
      ]
    },
    {
      "cell_type": "code",
      "metadata": {
        "id": "atV-5LJTNZ05",
        "colab_type": "code",
        "colab": {}
      },
      "source": [
        "!mkdir .kaggle"
      ],
      "execution_count": 0,
      "outputs": []
    },
    {
      "cell_type": "code",
      "metadata": {
        "id": "rCDeZpDENaCZ",
        "colab_type": "code",
        "colab": {}
      },
      "source": [
        "import json\n",
        "token = {\"username\":\"srinidhikarthick\",\"key\":\"15467a092669b85df36db57586c2dee5\"}\n",
        "with open('/content/.kaggle/kaggle.json', 'w') as file:\n",
        "    json.dump(token, file)"
      ],
      "execution_count": 0,
      "outputs": []
    },
    {
      "cell_type": "code",
      "metadata": {
        "id": "cJTEQ50PNZ3n",
        "colab_type": "code",
        "colab": {}
      },
      "source": [
        "!cp /content/.kaggle/kaggle.json ~/.kaggle/kaggle.json"
      ],
      "execution_count": 0,
      "outputs": []
    },
    {
      "cell_type": "code",
      "metadata": {
        "id": "m-yXK1lPNZ6Y",
        "colab_type": "code",
        "outputId": "40da7392-6e46-42c3-cc8f-267e03b01fbe",
        "colab": {
          "base_uri": "https://localhost:8080/",
          "height": 51
        }
      },
      "source": [
        "!kaggle config set -n path -v{/content}"
      ],
      "execution_count": 0,
      "outputs": [
        {
          "output_type": "stream",
          "text": [
            "Warning: Your Kaggle API key is readable by other users on this system! To fix this, you can run 'chmod 600 /root/.kaggle/kaggle.json'\n",
            "- path is now set to: {/content}\n"
          ],
          "name": "stdout"
        }
      ]
    },
    {
      "cell_type": "code",
      "metadata": {
        "id": "wVw435SyN7yZ",
        "colab_type": "code",
        "outputId": "4dbe8168-8898-4420-88df-bdaf11e688f3",
        "colab": {
          "base_uri": "https://localhost:8080/",
          "height": 204
        }
      },
      "source": [
        "\n",
        "!kaggle competitions download -c microsoft-malware-prediction -p /content"
      ],
      "execution_count": 0,
      "outputs": [
        {
          "output_type": "stream",
          "text": [
            "Warning: Your Kaggle API key is readable by other users on this system! To fix this, you can run 'chmod 600 /root/.kaggle/kaggle.json'\n",
            "Warning: Looks like you're using an outdated API Version, please consider updating (server 1.5.6 / client 1.5.4)\n",
            "Downloading test.csv.zip to /content\n",
            " 98% 660M/672M [00:09<00:00, 54.9MB/s]\n",
            "100% 672M/672M [00:09<00:00, 77.1MB/s]\n",
            "Downloading sample_submission.csv.zip to /content\n",
            " 95% 127M/134M [00:01<00:00, 39.2MB/s]\n",
            "100% 134M/134M [00:02<00:00, 68.0MB/s]\n",
            "Downloading train.csv.zip to /content\n",
            " 97% 747M/768M [00:08<00:00, 89.3MB/s]\n",
            "100% 768M/768M [00:08<00:00, 95.4MB/s]\n"
          ],
          "name": "stdout"
        }
      ]
    },
    {
      "cell_type": "code",
      "metadata": {
        "id": "vuHVGOE1Ih_c",
        "colab_type": "code",
        "outputId": "b7a641f7-8412-4e4b-c9dd-646cdb02bed3",
        "colab": {
          "base_uri": "https://localhost:8080/",
          "height": 187
        }
      },
      "source": [
        "!unzip \\*.zip"
      ],
      "execution_count": 0,
      "outputs": [
        {
          "output_type": "stream",
          "text": [
            "Archive:  test.csv.zip\n",
            "  inflating: test.csv                \n",
            "\n",
            "Archive:  sample_submission.csv.zip\n",
            "  inflating: sample_submission.csv   \n",
            "\n",
            "Archive:  train.csv.zip\n",
            "  inflating: train.csv               \n",
            "\n",
            "3 archives were successfully processed.\n"
          ],
          "name": "stdout"
        }
      ]
    },
    {
      "cell_type": "code",
      "metadata": {
        "id": "AfrUug8cNZ_4",
        "colab_type": "code",
        "outputId": "33d0b605-3bb8-41e0-a52c-ed58e95ffade",
        "colab": {
          "base_uri": "https://localhost:8080/",
          "height": 51
        }
      },
      "source": [
        "import pandas as pd\n",
        "train = pd.read_csv(\"train.csv\")"
      ],
      "execution_count": 0,
      "outputs": [
        {
          "output_type": "stream",
          "text": [
            "/usr/local/lib/python3.6/dist-packages/IPython/core/interactiveshell.py:2718: DtypeWarning: Columns (28) have mixed types. Specify dtype option on import or set low_memory=False.\n",
            "  interactivity=interactivity, compiler=compiler, result=result)\n"
          ],
          "name": "stderr"
        }
      ]
    },
    {
      "cell_type": "code",
      "metadata": {
        "id": "IxT12yLpMRC-",
        "colab_type": "code",
        "outputId": "9a97e1f1-316c-4f87-94da-d6a3df7975db",
        "colab": {
          "base_uri": "https://localhost:8080/",
          "height": 34
        }
      },
      "source": [
        "train.shape"
      ],
      "execution_count": 0,
      "outputs": [
        {
          "output_type": "execute_result",
          "data": {
            "text/plain": [
              "(8921483, 84)"
            ]
          },
          "metadata": {
            "tags": []
          },
          "execution_count": 54
        }
      ]
    },
    {
      "cell_type": "code",
      "metadata": {
        "id": "PlK4IeGLRnyg",
        "colab_type": "code",
        "colab": {}
      },
      "source": [
        "import numpy as np\n",
        "## missing values for train data\n",
        "for i in train.columns:\n",
        "    if train[i].dtype == 'object':\n",
        "      train[i] = train[i].fillna(train[i].mode().iloc[0])\n",
        "    if (train[i].dtype == 'int' or train[i].dtype == 'float'):\n",
        "      train[i] = train[i].fillna(np.mean(train[i]))"
      ],
      "execution_count": 0,
      "outputs": []
    },
    {
      "cell_type": "code",
      "metadata": {
        "id": "qvI30NP_UIGC",
        "colab_type": "code",
        "colab": {}
      },
      "source": [
        "# replacing the categorical values into numerical values\n",
        "from sklearn.preprocessing import LabelEncoder\n",
        "lenc = LabelEncoder()\n",
        "for i in train.columns:\n",
        "    if (train[i].dtype == 'object'):\n",
        "      train[i] = lenc.fit_transform(train[i].astype('str'))\n",
        "      train[i] = train[i].astype('object')\n"
      ],
      "execution_count": 0,
      "outputs": []
    },
    {
      "cell_type": "code",
      "metadata": {
        "id": "xFABR58W8xok",
        "colab_type": "code",
        "outputId": "b88ac5bd-f511-4c89-a083-19cdf50834ef",
        "colab": {
          "base_uri": "https://localhost:8080/",
          "height": 51
        }
      },
      "source": [
        "test = pd.read_csv(\"test.csv\")"
      ],
      "execution_count": 0,
      "outputs": [
        {
          "output_type": "stream",
          "text": [
            "/usr/local/lib/python3.6/dist-packages/IPython/core/interactiveshell.py:2718: DtypeWarning: Columns (28) have mixed types. Specify dtype option on import or set low_memory=False.\n",
            "  interactivity=interactivity, compiler=compiler, result=result)\n"
          ],
          "name": "stderr"
        }
      ]
    },
    {
      "cell_type": "code",
      "metadata": {
        "id": "a-Om2CgDVDyh",
        "colab_type": "code",
        "colab": {}
      },
      "source": [
        "#missing values for testing data\n",
        "for i in test.columns:\n",
        "    if test[i].dtype == 'object':\n",
        "      test[i] = test[i].fillna(train[i].mode().iloc[0])\n",
        "    if (test[i].dtype == 'int' or test[i].dtype == 'float'):\n",
        "      test[i] = train[i].fillna(np.mean(train[i]))"
      ],
      "execution_count": 0,
      "outputs": []
    },
    {
      "cell_type": "code",
      "metadata": {
        "id": "W51b2xhB8uyF",
        "colab_type": "code",
        "colab": {}
      },
      "source": [
        "# replacing the categorical values into numerical values\n",
        "for i in test.columns:\n",
        "    if (test[i].dtype == 'object'):\n",
        "      test[i] = lenc.fit_transform(test[i].astype('str'))\n",
        "      test[i] = test[i].astype('object')"
      ],
      "execution_count": 0,
      "outputs": []
    },
    {
      "cell_type": "code",
      "metadata": {
        "id": "VjNDnDll_75e",
        "colab_type": "code",
        "colab": {}
      },
      "source": [
        "#adding a new column called source to identify them as whether they belong to training or testing dataset\n",
        "train['source'] = 0\n",
        "test['source'] = 1"
      ],
      "execution_count": 0,
      "outputs": []
    },
    {
      "cell_type": "code",
      "metadata": {
        "id": "wGbNMopf-Jry",
        "colab_type": "code",
        "colab": {}
      },
      "source": [
        "## taking sample from training and test data\n",
        "training = train.sample(7000, random_state=11,replace=True)\n",
        "testing = test.sample(6500, random_state=11,replace=True)"
      ],
      "execution_count": 0,
      "outputs": []
    },
    {
      "cell_type": "code",
      "metadata": {
        "id": "m9ToZOfzCNdD",
        "colab_type": "code",
        "colab": {}
      },
      "source": [
        "del training['HasDetections']"
      ],
      "execution_count": 0,
      "outputs": []
    },
    {
      "cell_type": "code",
      "metadata": {
        "id": "owT2UM5U_zBl",
        "colab_type": "code",
        "colab": {}
      },
      "source": [
        "## combining random samples\n",
        "combined = training.append(testing)\n",
        "y = combined['source']\n",
        "combined.drop('source',axis=1,inplace=True)"
      ],
      "execution_count": 0,
      "outputs": []
    },
    {
      "cell_type": "code",
      "metadata": {
        "id": "e_Ymcep-Ajje",
        "colab_type": "code",
        "outputId": "cc4e87e1-41ac-4d97-bbce-7ca40b67c0c4",
        "colab": {
          "base_uri": "https://localhost:8080/",
          "height": 306
        }
      },
      "source": [
        "from sklearn.ensemble import RandomForestRegressor\n",
        "from sklearn.ensemble import RandomForestClassifier\n",
        "from sklearn.model_selection import cross_val_score\n",
        "## modelling\n",
        "model = RandomForestClassifier(n_estimators = 50, max_depth = 5,min_samples_leaf = 5)\n",
        "drop_list = []\n",
        "\n",
        "for i in combined.columns:\n",
        "    score = cross_val_score(model,pd.DataFrame(combined[i]),y,cv=2,scoring='roc_auc')\n",
        "    if (np.mean(score) > 0.8):\n",
        "        drop_list.append(i)\n",
        "        print(i,np.mean(score))"
      ],
      "execution_count": 0,
      "outputs": [
        {
          "output_type": "stream",
          "text": [
            "EngineVersion 0.8634850329670329\n",
            "AppVersion 0.9924063516483517\n",
            "AvSigVersion 0.9529643296703297\n",
            "OsBuildLab 0.9810598021978021\n",
            "PuaMode 0.9997692307692307\n",
            "SmartScreen 0.9878566373626374\n",
            "Census_ProcessorClass 0.999389098901099\n",
            "Census_PrimaryDiskTypeName 0.8697905054945054\n",
            "Census_ChassisTypeName 0.9800955604395605\n",
            "Census_PowerPlatformRoleName 0.9988777142857141\n",
            "Census_InternalBatteryType 0.9995342197802197\n",
            "Census_OSVersion 0.8332793406593406\n",
            "Census_OSBranch 0.8967791428571428\n",
            "Census_OSEdition 0.9553886593406593\n",
            "Census_OSSkuName 0.807076087912088\n",
            "Census_GenuineStateName 0.9346184835164835\n",
            "Census_FlightRing 0.9838798681318681\n"
          ],
          "name": "stdout"
        }
      ]
    },
    {
      "cell_type": "code",
      "metadata": {
        "id": "FtQ5RujjA8Xv",
        "colab_type": "code",
        "outputId": "bd1dbb0d-0961-49c7-9c55-5d2935f0b1c9",
        "colab": {
          "base_uri": "https://localhost:8080/",
          "height": 296
        }
      },
      "source": [
        "import matplotlib.pyplot as plt\n",
        "import seaborn as sns\n",
        "sns.distplot(training['EngineVersion'])\n",
        "sns.distplot(testing['EngineVersion'])\n",
        "#plt.show()"
      ],
      "execution_count": 0,
      "outputs": [
        {
          "output_type": "execute_result",
          "data": {
            "text/plain": [
              "<matplotlib.axes._subplots.AxesSubplot at 0x7f87271284a8>"
            ]
          },
          "metadata": {
            "tags": []
          },
          "execution_count": 41
        },
        {
          "output_type": "display_data",
          "data": {
            "image/png": "[encoded data removed]",
            "text/plain": [
              "<Figure size 432x288 with 1 Axes>"
            ]
          },
          "metadata": {
            "tags": []
          }
        }
      ]
    },
    {
      "cell_type": "code",
      "metadata": {
        "id": "DMCK2a4mcFlq",
        "colab_type": "code",
        "outputId": "3af4fd2f-a614-4f61-e1cb-3246348a105a",
        "colab": {
          "base_uri": "https://localhost:8080/",
          "height": 296
        }
      },
      "source": [
        "import seaborn as sns\n",
        "sns.distplot(training['AppVersion'])\n",
        "sns.distplot(testing['AppVersion'])"
      ],
      "execution_count": 0,
      "outputs": [
        {
          "output_type": "execute_result",
          "data": {
            "text/plain": [
              "<matplotlib.axes._subplots.AxesSubplot at 0x7f87115680f0>"
            ]
          },
          "metadata": {
            "tags": []
          },
          "execution_count": 42
        },
        {
          "output_type": "display_data",
          "data": {
            "image/png": "[encoded data removed]",
            "text/plain": [
              "<Figure size 432x288 with 1 Axes>"
            ]
          },
          "metadata": {
            "tags": []
          }
        }
      ]
    },
    {
      "cell_type": "code",
      "metadata": {
        "id": "ih4mIvD2fwzo",
        "colab_type": "code",
        "outputId": "2ea459f9-6085-4d54-c83e-6f4eee20b98f",
        "colab": {
          "base_uri": "https://localhost:8080/",
          "height": 296
        }
      },
      "source": [
        "import seaborn as sns\n",
        "sns.distplot(training['AvSigVersion'])\n",
        "sns.distplot(testing['AvSigVersion'])\n"
      ],
      "execution_count": 0,
      "outputs": [
        {
          "output_type": "execute_result",
          "data": {
            "text/plain": [
              "<matplotlib.axes._subplots.AxesSubplot at 0x7f872251f9b0>"
            ]
          },
          "metadata": {
            "tags": []
          },
          "execution_count": 43
        },
        {
          "output_type": "display_data",
          "data": {
            "image/png": "[encoded data removed]",
            "text/plain": [
              "<Figure size 432x288 with 1 Axes>"
            ]
          },
          "metadata": {
            "tags": []
          }
        }
      ]
    },
    {
      "cell_type": "code",
      "metadata": {
        "id": "QHeeg4Ozf2an",
        "colab_type": "code",
        "outputId": "7e059492-5245-4e24-d3e5-91d0d6b6d19e",
        "colab": {
          "base_uri": "https://localhost:8080/",
          "height": 296
        }
      },
      "source": [
        "import seaborn as sns\n",
        "sns.distplot(training['DefaultBrowsersIdentifier'])\n",
        "sns.distplot(testing['DefaultBrowsersIdentifier'])\n"
      ],
      "execution_count": 0,
      "outputs": [
        {
          "output_type": "execute_result",
          "data": {
            "text/plain": [
              "<matplotlib.axes._subplots.AxesSubplot at 0x7f8729a4cb38>"
            ]
          },
          "metadata": {
            "tags": []
          },
          "execution_count": 44
        },
        {
          "output_type": "display_data",
          "data": {
            "image/png": "[encoded data removed]",
            "text/plain": [
              "<Figure size 432x288 with 1 Axes>"
            ]
          },
          "metadata": {
            "tags": []
          }
        }
      ]
    },
    {
      "cell_type": "code",
      "metadata": {
        "id": "2UakCgB6f7b6",
        "colab_type": "code",
        "outputId": "5eadaecb-4a18-460b-eb82-923c2ef242a2",
        "colab": {
          "base_uri": "https://localhost:8080/",
          "height": 296
        }
      },
      "source": [
        "import seaborn as sns\n",
        "sns.distplot(training['OsBuildLab'])\n",
        "sns.distplot(testing['OsBuildLab'])\n"
      ],
      "execution_count": 0,
      "outputs": [
        {
          "output_type": "execute_result",
          "data": {
            "text/plain": [
              "<matplotlib.axes._subplots.AxesSubplot at 0x7f870a7c4f60>"
            ]
          },
          "metadata": {
            "tags": []
          },
          "execution_count": 45
        },
        {
          "output_type": "display_data",
          "data": {
            "image/png": "[encoded data removed]",
            "text/plain": [
              "<Figure size 432x288 with 1 Axes>"
            ]
          },
          "metadata": {
            "tags": []
          }
        }
      ]
    },
    {
      "cell_type": "code",
      "metadata": {
        "id": "28H9WBfSf7_q",
        "colab_type": "code",
        "outputId": "69e5b587-6ff5-4fd6-b281-e2a60190a030",
        "colab": {
          "base_uri": "https://localhost:8080/",
          "height": 296
        }
      },
      "source": [
        "import seaborn as sns\n",
        "sns.distplot(training['SMode'])\n",
        "sns.distplot(testing['SMode'])\n"
      ],
      "execution_count": 0,
      "outputs": [
        {
          "output_type": "execute_result",
          "data": {
            "text/plain": [
              "<matplotlib.axes._subplots.AxesSubplot at 0x7f87049e3f28>"
            ]
          },
          "metadata": {
            "tags": []
          },
          "execution_count": 46
        },
        {
          "output_type": "display_data",
          "data": {
            "image/png": "[encoded data removed]",
            "text/plain": [
              "<Figure size 432x288 with 1 Axes>"
            ]
          },
          "metadata": {
            "tags": []
          }
        }
      ]
    },
    {
      "cell_type": "code",
      "metadata": {
        "id": "lo9uHXoWf8YJ",
        "colab_type": "code",
        "outputId": "fff2a239-d536-48a3-ccba-eb0ac7a64a1e",
        "colab": {
          "base_uri": "https://localhost:8080/",
          "height": 297
        }
      },
      "source": [
        "import seaborn as sns\n",
        "sns.distplot(training['Census_ChassisTypeName'])\n",
        "sns.distplot(testing['Census_ChassisTypeName'])\n"
      ],
      "execution_count": 0,
      "outputs": [
        {
          "output_type": "execute_result",
          "data": {
            "text/plain": [
              "<matplotlib.axes._subplots.AxesSubplot at 0x7f871db8d780>"
            ]
          },
          "metadata": {
            "tags": []
          },
          "execution_count": 47
        },
        {
          "output_type": "display_data",
          "data": {
            "image/png": "[encoded data removed]",
            "text/plain": [
              "<Figure size 432x288 with 1 Axes>"
            ]
          },
          "metadata": {
            "tags": []
          }
        }
      ]
    },
    {
      "cell_type": "code",
      "metadata": {
        "id": "HoK8RpZsf8tg",
        "colab_type": "code",
        "outputId": "e38c6288-51af-490f-b87d-d2a21391a533",
        "colab": {
          "base_uri": "https://localhost:8080/",
          "height": 297
        }
      },
      "source": [
        "import seaborn as sns\n",
        "sns.distplot(training['Census_InternalBatteryType'])\n",
        "sns.distplot(testing['Census_InternalBatteryType'])\n"
      ],
      "execution_count": 0,
      "outputs": [
        {
          "output_type": "execute_result",
          "data": {
            "text/plain": [
              "<matplotlib.axes._subplots.AxesSubplot at 0x7f87200ed1d0>"
            ]
          },
          "metadata": {
            "tags": []
          },
          "execution_count": 48
        },
        {
          "output_type": "display_data",
          "data": {
            "image/png": "[encoded data removed]",
            "text/plain": [
              "<Figure size 432x288 with 1 Axes>"
            ]
          },
          "metadata": {
            "tags": []
          }
        }
      ]
    },
    {
      "cell_type": "code",
      "metadata": {
        "id": "u4hNfzeDf9DJ",
        "colab_type": "code",
        "outputId": "2f79f026-88bf-4aac-b791-1fc5f5b05579",
        "colab": {
          "base_uri": "https://localhost:8080/",
          "height": 297
        }
      },
      "source": [
        "import seaborn as sns\n",
        "sns.distplot(training['Census_OSVersion'])\n",
        "sns.distplot(testing['Census_OSVersion'])\n"
      ],
      "execution_count": 0,
      "outputs": [
        {
          "output_type": "execute_result",
          "data": {
            "text/plain": [
              "<matplotlib.axes._subplots.AxesSubplot at 0x7f8727dfc710>"
            ]
          },
          "metadata": {
            "tags": []
          },
          "execution_count": 49
        },
        {
          "output_type": "display_data",
          "data": {
            "image/png": "[encoded data removed]",
            "text/plain": [
              "<Figure size 432x288 with 1 Axes>"
            ]
          },
          "metadata": {
            "tags": []
          }
        }
      ]
    },
    {
      "cell_type": "code",
      "metadata": {
        "id": "I5I-jLYDf9ao",
        "colab_type": "code",
        "outputId": "25abc09c-5588-4eb7-c681-a80d67d33251",
        "colab": {
          "base_uri": "https://localhost:8080/",
          "height": 297
        }
      },
      "source": [
        "import seaborn as sns\n",
        "sns.distplot(training['Census_OSBranch'])\n",
        "sns.distplot(testing['Census_OSBranch'])\n"
      ],
      "execution_count": 0,
      "outputs": [
        {
          "output_type": "execute_result",
          "data": {
            "text/plain": [
              "<matplotlib.axes._subplots.AxesSubplot at 0x7f8727dfcba8>"
            ]
          },
          "metadata": {
            "tags": []
          },
          "execution_count": 50
        },
        {
          "output_type": "display_data",
          "data": {
            "image/png": "[encoded data removed]",
            "text/plain": [
              "<Figure size 432x288 with 1 Axes>"
            ]
          },
          "metadata": {
            "tags": []
          }
        }
      ]
    },
    {
      "cell_type": "code",
      "metadata": {
        "id": "bn0BpRMmf9xw",
        "colab_type": "code",
        "outputId": "f6d46674-a3d7-4125-b85d-b87abc8874fa",
        "colab": {
          "base_uri": "https://localhost:8080/",
          "height": 298
        }
      },
      "source": [
        "import seaborn as sns\n",
        "sns.distplot(training['Census_OSBuildRevision'])\n",
        "sns.distplot(testing['Census_OSBuildRevision'])\n"
      ],
      "execution_count": 0,
      "outputs": [
        {
          "output_type": "execute_result",
          "data": {
            "text/plain": [
              "<matplotlib.axes._subplots.AxesSubplot at 0x7f87312657f0>"
            ]
          },
          "metadata": {
            "tags": []
          },
          "execution_count": 51
        },
        {
          "output_type": "display_data",
          "data": {
            "image/png": "[encoded data removed]",
            "text/plain": [
              "<Figure size 432x288 with 1 Axes>"
            ]
          },
          "metadata": {
            "tags": []
          }
        }
      ]
    },
    {
      "cell_type": "code",
      "metadata": {
        "id": "laaAgTmef-Gh",
        "colab_type": "code",
        "outputId": "b62f37d9-1357-4207-fdc4-f88ccd9e57f4",
        "colab": {
          "base_uri": "https://localhost:8080/",
          "height": 297
        }
      },
      "source": [
        "import seaborn as sns\n",
        "sns.distplot(training['Census_OSEdition'])\n",
        "sns.distplot(testing['Census_OSEdition'])\n"
      ],
      "execution_count": 0,
      "outputs": [
        {
          "output_type": "execute_result",
          "data": {
            "text/plain": [
              "<matplotlib.axes._subplots.AxesSubplot at 0x7f870df50a58>"
            ]
          },
          "metadata": {
            "tags": []
          },
          "execution_count": 52
        },
        {
          "output_type": "display_data",
          "data": {
            "image/png": "[encoded data removed]",
            "text/plain": [
              "<Figure size 432x288 with 1 Axes>"
            ]
          },
          "metadata": {
            "tags": []
          }
        }
      ]
    },
    {
      "cell_type": "code",
      "metadata": {
        "id": "GY5F3PnQf-Xo",
        "colab_type": "code",
        "outputId": "93ebaa7a-0aa2-4c69-e3e0-11281d6c58df",
        "colab": {
          "base_uri": "https://localhost:8080/",
          "height": 297
        }
      },
      "source": [
        "import seaborn as sns\n",
        "sns.distplot(training['Census_OSSkuName'])\n",
        "sns.distplot(testing['Census_OSSkuName'])\n"
      ],
      "execution_count": 0,
      "outputs": [
        {
          "output_type": "execute_result",
          "data": {
            "text/plain": [
              "<matplotlib.axes._subplots.AxesSubplot at 0x7f87142315f8>"
            ]
          },
          "metadata": {
            "tags": []
          },
          "execution_count": 53
        },
        {
          "output_type": "display_data",
          "data": {
            "image/png": "[encoded data removed]",
            "text/plain": [
              "<Figure size 432x288 with 1 Axes>"
            ]
          },
          "metadata": {
            "tags": []
          }
        }
      ]
    },
    {
      "cell_type": "code",
      "metadata": {
        "id": "g7JMwu5sf-sp",
        "colab_type": "code",
        "outputId": "4bba63f9-3817-4266-ea1d-2e7a5f05e3f5",
        "colab": {
          "base_uri": "https://localhost:8080/",
          "height": 297
        }
      },
      "source": [
        "import seaborn as sns\n",
        "sns.distplot(training['Census_IsFlightingInternal'])\n",
        "sns.distplot(testing['Census_IsFlightingInternal'])\n"
      ],
      "execution_count": 0,
      "outputs": [
        {
          "output_type": "execute_result",
          "data": {
            "text/plain": [
              "<matplotlib.axes._subplots.AxesSubplot at 0x7f8716aa5b38>"
            ]
          },
          "metadata": {
            "tags": []
          },
          "execution_count": 54
        },
        {
          "output_type": "display_data",
          "data": {
            "image/png": "[encoded data removed]",
            "text/plain": [
              "<Figure size 432x288 with 1 Axes>"
            ]
          },
          "metadata": {
            "tags": []
          }
        }
      ]
    },
    {
      "cell_type": "code",
      "metadata": {
        "id": "faMHKWVgf_N5",
        "colab_type": "code",
        "outputId": "0025e7c8-f524-45a4-a5fb-d9ac42ca4e6e",
        "colab": {
          "base_uri": "https://localhost:8080/",
          "height": 297
        }
      },
      "source": [
        "import seaborn as sns\n",
        "sns.distplot(training['Census_FlightRing'])\n",
        "sns.distplot(testing['Census_FlightRing'])\n"
      ],
      "execution_count": 0,
      "outputs": [
        {
          "output_type": "execute_result",
          "data": {
            "text/plain": [
              "<matplotlib.axes._subplots.AxesSubplot at 0x7f871e5efcc0>"
            ]
          },
          "metadata": {
            "tags": []
          },
          "execution_count": 55
        },
        {
          "output_type": "display_data",
          "data": {
            "image/png": "[encoded data removed]",
            "text/plain": [
              "<Figure size 432x288 with 1 Axes>"
            ]
          },
          "metadata": {
            "tags": []
          }
        }
      ]
    },
    {
      "cell_type": "code",
      "metadata": {
        "id": "Z0E5engGf_eJ",
        "colab_type": "code",
        "outputId": "be3ad57e-5d70-4352-a280-43fe32ef354f",
        "colab": {
          "base_uri": "https://localhost:8080/",
          "height": 297
        }
      },
      "source": [
        "import seaborn as sns\n",
        "sns.distplot(training['Census_ThresholdOptIn'])\n",
        "sns.distplot(testing['Census_ThresholdOptIn'])\n"
      ],
      "execution_count": 0,
      "outputs": [
        {
          "output_type": "execute_result",
          "data": {
            "text/plain": [
              "<matplotlib.axes._subplots.AxesSubplot at 0x7f8726e014a8>"
            ]
          },
          "metadata": {
            "tags": []
          },
          "execution_count": 56
        },
        {
          "output_type": "display_data",
          "data": {
            "image/png": "[encoded data removed]",
            "text/plain": [
              "<Figure size 432x288 with 1 Axes>"
            ]
          },
          "metadata": {
            "tags": []
          }
        }
      ]
    },
    {
      "cell_type": "code",
      "metadata": {
        "id": "_WnQuV1sf_si",
        "colab_type": "code",
        "outputId": "0ac43ed9-e832-42c3-c1b5-51352bcbf23f",
        "colab": {
          "base_uri": "https://localhost:8080/",
          "height": 308
        }
      },
      "source": [
        "import seaborn as sns\n",
        "sns.distplot(training['Census_IsWIMBootEnabled'])\n",
        "sns.distplot(testing['Census_IsWIMBootEnabled'])\n"
      ],
      "execution_count": 0,
      "outputs": [
        {
          "output_type": "execute_result",
          "data": {
            "text/plain": [
              "<matplotlib.axes._subplots.AxesSubplot at 0x7f870aa37da0>"
            ]
          },
          "metadata": {
            "tags": []
          },
          "execution_count": 57
        },
        {
          "output_type": "display_data",
          "data": {
            "image/png": "[encoded data removed]",
            "text/plain": [
              "<Figure size 432x288 with 1 Axes>"
            ]
          },
          "metadata": {
            "tags": []
          }
        }
      ]
    },
    {
      "cell_type": "code",
      "metadata": {
        "id": "wuWftWw-g5zR",
        "colab_type": "code",
        "outputId": "494957b8-2bf2-4f2b-df1e-c2d75024819e",
        "colab": {
          "base_uri": "https://localhost:8080/",
          "height": 265
        }
      },
      "source": [
        "plt.hist(training['EngineVersion'])\n",
        "plt.hist(testing['EngineVersion'])\n",
        "plt.show()"
      ],
      "execution_count": 0,
      "outputs": [
        {
          "output_type": "display_data",
          "data": {
            "image/png": "[encoded data removed]",
            "text/plain": [
              "<Figure size 432x288 with 1 Axes>"
            ]
          },
          "metadata": {
            "tags": []
          }
        }
      ]
    },
    {
      "cell_type": "code",
      "metadata": {
        "id": "dBIal31ihHmv",
        "colab_type": "code",
        "outputId": "35ccc8f1-ea6f-4b18-f3db-6c21986cb73b",
        "colab": {
          "base_uri": "https://localhost:8080/",
          "height": 350
        }
      },
      "source": [
        "import seaborn as sns\n",
        "plt.hist(training['AppVersion'])\n",
        "plt.hist(testing['AppVersion'])\n"
      ],
      "execution_count": 0,
      "outputs": [
        {
          "output_type": "execute_result",
          "data": {
            "text/plain": [
              "(array([ 101.,  443.,  523.,   89.,  163., 4677.,   37.,  151.,  253.,\n",
              "          63.]),\n",
              " array([0.0, 11.8, 23.6, 35.400000000000006, 47.2, 59.0, 70.80000000000001,\n",
              "        82.60000000000001, 94.4, 106.2, 118.0], dtype=object),\n",
              " <a list of 10 Patch objects>)"
            ]
          },
          "metadata": {
            "tags": []
          },
          "execution_count": 59
        },
        {
          "output_type": "display_data",
          "data": {
            "image/png": "[encoded data removed]",
            "text/plain": [
              "<Figure size 432x288 with 1 Axes>"
            ]
          },
          "metadata": {
            "tags": []
          }
        }
      ]
    },
    {
      "cell_type": "code",
      "metadata": {
        "id": "HOZKcNnqh9Ph",
        "colab_type": "code",
        "outputId": "3aa664b4-7c1b-4a2f-8caa-e8c8d2166dee",
        "colab": {
          "base_uri": "https://localhost:8080/",
          "height": 350
        }
      },
      "source": [
        "import seaborn as sns\n",
        "plt.hist(training['AvSigVersion'])\n",
        "plt.hist(testing['AvSigVersion'])\n"
      ],
      "execution_count": 0,
      "outputs": [
        {
          "output_type": "execute_result",
          "data": {
            "text/plain": [
              "(array([5.000e+00, 8.000e+00, 5.000e+01, 1.500e+01, 7.600e+01, 3.700e+01,\n",
              "        1.760e+02, 1.590e+02, 6.900e+02, 5.284e+03]),\n",
              " array([41.0, 972.5, 1904.0, 2835.5, 3767.0, 4698.5, 5630.0, 6561.5,\n",
              "        7493.0, 8424.5, 9356.0], dtype=object),\n",
              " <a list of 10 Patch objects>)"
            ]
          },
          "metadata": {
            "tags": []
          },
          "execution_count": 60
        },
        {
          "output_type": "display_data",
          "data": {
            "image/png": "[encoded data removed]",
            "text/plain": [
              "<Figure size 432x288 with 1 Axes>"
            ]
          },
          "metadata": {
            "tags": []
          }
        }
      ]
    },
    {
      "cell_type": "code",
      "metadata": {
        "id": "pYpGusmSh_Pw",
        "colab_type": "code",
        "outputId": "629af6ea-5354-4607-86c3-218ebb36316a",
        "colab": {
          "base_uri": "https://localhost:8080/",
          "height": 353
        }
      },
      "source": [
        "import seaborn as sns\n",
        "plt.hist(training['DefaultBrowsersIdentifier'])\n",
        "plt.hist(testing['DefaultBrowsersIdentifier'])\n"
      ],
      "execution_count": 0,
      "outputs": [
        {
          "output_type": "execute_result",
          "data": {
            "text/plain": [
              "(array([  76.,    8.,   19.,   27.,   11., 6246.,   30.,   27.,   13.,\n",
              "          43.]),\n",
              " array([   8. ,  326.7,  645.4,  964.1, 1282.8, 1601.5, 1920.2, 2238.9,\n",
              "        2557.6, 2876.3, 3195. ]),\n",
              " <a list of 10 Patch objects>)"
            ]
          },
          "metadata": {
            "tags": []
          },
          "execution_count": 61
        },
        {
          "output_type": "display_data",
          "data": {
            "image/png": "[encoded data removed]",
            "text/plain": [
              "<Figure size 432x288 with 1 Axes>"
            ]
          },
          "metadata": {
            "tags": []
          }
        }
      ]
    },
    {
      "cell_type": "code",
      "metadata": {
        "id": "xpjDoDZ3iBMY",
        "colab_type": "code",
        "outputId": "42c3c4ea-01dc-479c-dfe7-5fcfbe1f68f8",
        "colab": {
          "base_uri": "https://localhost:8080/",
          "height": 367
        }
      },
      "source": [
        "import seaborn as sns\n",
        "plt.hist(training['OsBuildLab'])\n",
        "plt.hist(testing['OsBuildLab'])\n"
      ],
      "execution_count": 0,
      "outputs": [
        {
          "output_type": "execute_result",
          "data": {
            "text/plain": [
              "(array([1.850e+02, 3.050e+02, 3.040e+02, 1.339e+03, 3.975e+03, 2.560e+02,\n",
              "        2.000e+00, 3.000e+00, 4.600e+01, 8.500e+01]),\n",
              " array([0.0, 67.2, 134.4, 201.60000000000002, 268.8, 336.0,\n",
              "        403.20000000000005, 470.40000000000003, 537.6, 604.8000000000001,\n",
              "        672.0], dtype=object),\n",
              " <a list of 10 Patch objects>)"
            ]
          },
          "metadata": {
            "tags": []
          },
          "execution_count": 62
        },
        {
          "output_type": "display_data",
          "data": {
            "image/png": "[encoded data removed]",
            "text/plain": [
              "<Figure size 432x288 with 1 Axes>"
            ]
          },
          "metadata": {
            "tags": []
          }
        }
      ]
    },
    {
      "cell_type": "code",
      "metadata": {
        "id": "be3qd-XsiDCo",
        "colab_type": "code",
        "outputId": "615eb386-2f8f-40d7-cacb-2d8957c2ee78",
        "colab": {
          "base_uri": "https://localhost:8080/",
          "height": 333
        }
      },
      "source": [
        "import seaborn as sns\n",
        "plt.hist(training['SMode'])\n",
        "plt.hist(testing['SMode'])\n"
      ],
      "execution_count": 0,
      "outputs": [
        {
          "output_type": "execute_result",
          "data": {
            "text/plain": [
              "(array([6.496e+03, 0.000e+00, 0.000e+00, 0.000e+00, 0.000e+00, 0.000e+00,\n",
              "        0.000e+00, 0.000e+00, 0.000e+00, 4.000e+00]),\n",
              " array([0. , 0.1, 0.2, 0.3, 0.4, 0.5, 0.6, 0.7, 0.8, 0.9, 1. ]),\n",
              " <a list of 10 Patch objects>)"
            ]
          },
          "metadata": {
            "tags": []
          },
          "execution_count": 63
        },
        {
          "output_type": "display_data",
          "data": {
            "image/png": "[encoded data removed]",
            "text/plain": [
              "<Figure size 432x288 with 1 Axes>"
            ]
          },
          "metadata": {
            "tags": []
          }
        }
      ]
    },
    {
      "cell_type": "code",
      "metadata": {
        "id": "42GmPL8liFG4",
        "colab_type": "code",
        "outputId": "c3982e9d-323d-4177-bcda-69cd69dc702c",
        "colab": {
          "base_uri": "https://localhost:8080/",
          "height": 350
        }
      },
      "source": [
        "import seaborn as sns\n",
        "plt.hist(training['Census_ChassisTypeName'])\n",
        "plt.hist(testing['Census_ChassisTypeName'])\n"
      ],
      "execution_count": 0,
      "outputs": [
        {
          "output_type": "execute_result",
          "data": {
            "text/plain": [
              "(array([ 143., 1599.,   35.,  540.,   14., 3820.,  261.,   27.,    0.,\n",
              "          61.]),\n",
              " array([16.0, 19.2, 22.4, 25.6, 28.8, 32.0, 35.2, 38.400000000000006, 41.6,\n",
              "        44.8, 48.0], dtype=object),\n",
              " <a list of 10 Patch objects>)"
            ]
          },
          "metadata": {
            "tags": []
          },
          "execution_count": 64
        },
        {
          "output_type": "display_data",
          "data": {
            "image/png": "[encoded data removed]",
            "text/plain": [
              "<Figure size 432x288 with 1 Axes>"
            ]
          },
          "metadata": {
            "tags": []
          }
        }
      ]
    },
    {
      "cell_type": "code",
      "metadata": {
        "id": "Pye59uKbiGro",
        "colab_type": "code",
        "outputId": "79cdd9e0-d229-46e7-8cec-886c384d0fdd",
        "colab": {
          "base_uri": "https://localhost:8080/",
          "height": 350
        }
      },
      "source": [
        "import seaborn as sns\n",
        "plt.hist(training['Census_InternalBatteryType'])\n",
        "plt.hist(testing['Census_InternalBatteryType'])\n"
      ],
      "execution_count": 0,
      "outputs": [
        {
          "output_type": "execute_result",
          "data": {
            "text/plain": [
              "(array([1.650e+02, 4.967e+03, 0.000e+00, 3.000e+00, 0.000e+00, 4.000e+00,\n",
              "        1.760e+02, 1.175e+03, 4.000e+00, 6.000e+00]),\n",
              " array([2.0, 7.7, 13.4, 19.1, 24.8, 30.5, 36.2, 41.9, 47.6,\n",
              "        53.300000000000004, 59.0], dtype=object),\n",
              " <a list of 10 Patch objects>)"
            ]
          },
          "metadata": {
            "tags": []
          },
          "execution_count": 65
        },
        {
          "output_type": "display_data",
          "data": {
            "image/png": "[encoded data removed]",
            "text/plain": [
              "<Figure size 432x288 with 1 Axes>"
            ]
          },
          "metadata": {
            "tags": []
          }
        }
      ]
    },
    {
      "cell_type": "code",
      "metadata": {
        "id": "9S0RtstCiJJI",
        "colab_type": "code",
        "outputId": "e10d04ec-23bf-4ba1-b8c6-dcd4bdc6de7c",
        "colab": {
          "base_uri": "https://localhost:8080/",
          "height": 333
        }
      },
      "source": [
        "import seaborn as sns\n",
        "plt.hist(training['Census_OSVersion'])\n",
        "plt.hist(testing['Census_OSVersion'])\n"
      ],
      "execution_count": 0,
      "outputs": [
        {
          "output_type": "execute_result",
          "data": {
            "text/plain": [
              "(array([ 192.,  335.,   49.,  371.,  106.,  346.,  996., 1024., 2817.,\n",
              "         264.]), array([0.0, 45.2, 90.4, 135.60000000000002, 180.8, 226.0,\n",
              "        271.20000000000005, 316.40000000000003, 361.6, 406.8, 452.0],\n",
              "       dtype=object), <a list of 10 Patch objects>)"
            ]
          },
          "metadata": {
            "tags": []
          },
          "execution_count": 66
        },
        {
          "output_type": "display_data",
          "data": {
            "image/png": "[encoded data removed]",
            "text/plain": [
              "<Figure size 432x288 with 1 Axes>"
            ]
          },
          "metadata": {
            "tags": []
          }
        }
      ]
    },
    {
      "cell_type": "code",
      "metadata": {
        "id": "vxsbUwFTiLs4",
        "colab_type": "code",
        "outputId": "ac50c032-7f56-4a3b-d7e4-658e7b95d108",
        "colab": {
          "base_uri": "https://localhost:8080/",
          "height": 350
        }
      },
      "source": [
        "import seaborn as sns\n",
        "plt.hist(training['Census_OSBranch'])\n",
        "plt.hist(testing['Census_OSBranch'])\n"
      ],
      "execution_count": 0,
      "outputs": [
        {
          "output_type": "execute_result",
          "data": {
            "text/plain": [
              "(array([ 477.,  472., 1366., 3602.,    0.,    0.,    7.,    0.,   56.,\n",
              "         520.]),\n",
              " array([0.0, 2.3, 4.6, 6.8999999999999995, 9.2, 11.5, 13.799999999999999,\n",
              "        16.099999999999998, 18.4, 20.7, 23.0], dtype=object),\n",
              " <a list of 10 Patch objects>)"
            ]
          },
          "metadata": {
            "tags": []
          },
          "execution_count": 67
        },
        {
          "output_type": "display_data",
          "data": {
            "image/png": "[encoded data removed]",
            "text/plain": [
              "<Figure size 432x288 with 1 Axes>"
            ]
          },
          "metadata": {
            "tags": []
          }
        }
      ]
    },
    {
      "cell_type": "code",
      "metadata": {
        "id": "NkqVzgwgiNpo",
        "colab_type": "code",
        "outputId": "7d5589e1-c7f9-4331-b37f-3be754d55226",
        "colab": {
          "base_uri": "https://localhost:8080/",
          "height": 350
        }
      },
      "source": [
        "import seaborn as sns\n",
        "plt.hist(training['Census_OSBuildRevision'])\n",
        "plt.hist(testing['Census_OSBuildRevision'])\n"
      ],
      "execution_count": 0,
      "outputs": [
        {
          "output_type": "execute_result",
          "data": {
            "text/plain": [
              "(array([6011.,  292.,    0.,    0.,    0.,    0.,    0.,    0.,    0.,\n",
              "         197.]),\n",
              " array([    0. ,  1794.6,  3589.2,  5383.8,  7178.4,  8973. , 10767.6,\n",
              "        12562.2, 14356.8, 16151.4, 17946. ]),\n",
              " <a list of 10 Patch objects>)"
            ]
          },
          "metadata": {
            "tags": []
          },
          "execution_count": 68
        },
        {
          "output_type": "display_data",
          "data": {
            "image/png": "[encoded data removed]",
            "text/plain": [
              "<Figure size 432x288 with 1 Axes>"
            ]
          },
          "metadata": {
            "tags": []
          }
        }
      ]
    },
    {
      "cell_type": "code",
      "metadata": {
        "id": "vql4sn-RiPjQ",
        "colab_type": "code",
        "outputId": "a97ee287-778c-48cf-935c-8965a4fe691b",
        "colab": {
          "base_uri": "https://localhost:8080/",
          "height": 316
        }
      },
      "source": [
        "import seaborn as sns\n",
        "plt.hist(training['Census_OSEdition'])\n",
        "plt.hist(testing['Census_OSEdition'])\n"
      ],
      "execution_count": 0,
      "outputs": [
        {
          "output_type": "execute_result",
          "data": {
            "text/plain": [
              "(array([2430., 1372.,   18.,   11.,    0., 2578.,   48.,   31.,    0.,\n",
              "          12.]), array([3.0, 6.1, 9.2, 12.3, 15.4, 18.5, 21.6, 24.7, 27.8,\n",
              "        30.900000000000002, 34.0], dtype=object), <a list of 10 Patch objects>)"
            ]
          },
          "metadata": {
            "tags": []
          },
          "execution_count": 69
        },
        {
          "output_type": "display_data",
          "data": {
            "image/png": "[encoded data removed]",
            "text/plain": [
              "<Figure size 432x288 with 1 Axes>"
            ]
          },
          "metadata": {
            "tags": []
          }
        }
      ]
    },
    {
      "cell_type": "code",
      "metadata": {
        "id": "N3jVdquXiQ9A",
        "colab_type": "code",
        "outputId": "3cbee7c1-ce7a-41bf-fbdf-894812473738",
        "colab": {
          "base_uri": "https://localhost:8080/",
          "height": 350
        }
      },
      "source": [
        "import seaborn as sns\n",
        "plt.hist(training['Census_OSSkuName'])\n",
        "plt.hist(testing['Census_OSSkuName'])\n"
      ],
      "execution_count": 0,
      "outputs": [
        {
          "output_type": "execute_result",
          "data": {
            "text/plain": [
              "(array([2.285e+03, 1.488e+03, 3.000e+01, 1.800e+01, 1.000e+01, 1.000e+00,\n",
              "        2.656e+03, 0.000e+00, 0.000e+00, 1.200e+01]),\n",
              " array([0.0, 2.7, 5.4, 8.100000000000001, 10.8, 13.5, 16.200000000000003,\n",
              "        18.900000000000002, 21.6, 24.3, 27.0], dtype=object),\n",
              " <a list of 10 Patch objects>)"
            ]
          },
          "metadata": {
            "tags": []
          },
          "execution_count": 70
        },
        {
          "output_type": "display_data",
          "data": {
            "image/png": "[encoded data removed]",
            "text/plain": [
              "<Figure size 432x288 with 1 Axes>"
            ]
          },
          "metadata": {
            "tags": []
          }
        }
      ]
    },
    {
      "cell_type": "code",
      "metadata": {
        "id": "WjbjGMQgiTyQ",
        "colab_type": "code",
        "outputId": "637cf61a-f7ac-4686-843c-ec817473cb15",
        "colab": {
          "base_uri": "https://localhost:8080/",
          "height": 333
        }
      },
      "source": [
        "import seaborn as sns\n",
        "plt.hist(training['Census_IsFlightingInternal'])\n",
        "plt.hist(testing['Census_IsFlightingInternal'])\n"
      ],
      "execution_count": 0,
      "outputs": [
        {
          "output_type": "execute_result",
          "data": {
            "text/plain": [
              "(array([6.499e+03, 0.000e+00, 0.000e+00, 0.000e+00, 0.000e+00, 0.000e+00,\n",
              "        0.000e+00, 0.000e+00, 0.000e+00, 1.000e+00]),\n",
              " array([0. , 0.1, 0.2, 0.3, 0.4, 0.5, 0.6, 0.7, 0.8, 0.9, 1. ]),\n",
              " <a list of 10 Patch objects>)"
            ]
          },
          "metadata": {
            "tags": []
          },
          "execution_count": 71
        },
        {
          "output_type": "display_data",
          "data": {
            "image/png": "[encoded data removed]",
            "text/plain": [
              "<Figure size 432x288 with 1 Axes>"
            ]
          },
          "metadata": {
            "tags": []
          }
        }
      ]
    },
    {
      "cell_type": "code",
      "metadata": {
        "id": "6TiDCJX3iVnw",
        "colab_type": "code",
        "outputId": "13f51deb-2cdd-46e7-cf01-0cd0c0ec5c09",
        "colab": {
          "base_uri": "https://localhost:8080/",
          "height": 350
        }
      },
      "source": [
        "import seaborn as sns\n",
        "plt.hist(training['Census_FlightRing'])\n",
        "plt.hist(testing['Census_FlightRing'])\n"
      ],
      "execution_count": 0,
      "outputs": [
        {
          "output_type": "execute_result",
          "data": {
            "text/plain": [
              "(array([4.000e+00, 0.000e+00, 2.080e+02, 0.000e+00, 0.000e+00, 1.300e+01,\n",
              "        6.099e+03, 1.610e+02, 7.000e+00, 8.000e+00]),\n",
              " array([2.0, 2.8, 3.6, 4.4, 5.2, 6.0, 6.800000000000001,\n",
              "        7.6000000000000005, 8.4, 9.2, 10.0], dtype=object),\n",
              " <a list of 10 Patch objects>)"
            ]
          },
          "metadata": {
            "tags": []
          },
          "execution_count": 72
        },
        {
          "output_type": "display_data",
          "data": {
            "image/png": "[encoded data removed]",
            "text/plain": [
              "<Figure size 432x288 with 1 Axes>"
            ]
          },
          "metadata": {
            "tags": []
          }
        }
      ]
    },
    {
      "cell_type": "code",
      "metadata": {
        "id": "VnqRMAEGiYCA",
        "colab_type": "code",
        "outputId": "5d547fee-ccb3-4c9d-c9f5-b004d15d441b",
        "colab": {
          "base_uri": "https://localhost:8080/",
          "height": 367
        }
      },
      "source": [
        "import seaborn as sns\n",
        "plt.hist(training['Census_ThresholdOptIn'])\n",
        "plt.hist(testing['Census_ThresholdOptIn'])\n"
      ],
      "execution_count": 0,
      "outputs": [
        {
          "output_type": "execute_result",
          "data": {
            "text/plain": [
              "(array([2464.,    0.,    0.,    0.,    0.,    0.,    0.,    0.,    0.,\n",
              "        4036.]),\n",
              " array([0.00000000e+00, 2.50756110e-05, 5.01512219e-05, 7.52268329e-05,\n",
              "        1.00302444e-04, 1.25378055e-04, 1.50453666e-04, 1.75529277e-04,\n",
              "        2.00604888e-04, 2.25680499e-04, 2.50756110e-04]),\n",
              " <a list of 10 Patch objects>)"
            ]
          },
          "metadata": {
            "tags": []
          },
          "execution_count": 73
        },
        {
          "output_type": "display_data",
          "data": {
            "image/png": "[encoded data removed]",
            "text/plain": [
              "<Figure size 432x288 with 1 Axes>"
            ]
          },
          "metadata": {
            "tags": []
          }
        }
      ]
    },
    {
      "cell_type": "code",
      "metadata": {
        "id": "UA_r4yiiiZ6w",
        "colab_type": "code",
        "outputId": "87b8903c-4c3e-45e9-ece8-a52bef1fc229",
        "colab": {
          "base_uri": "https://localhost:8080/",
          "height": 380
        }
      },
      "source": [
        "import seaborn as sns\n",
        "plt.hist(training['Census_IsWIMBootEnabled'])\n",
        "plt.hist(testing['Census_IsWIMBootEnabled'])\n"
      ],
      "execution_count": 0,
      "outputs": [
        {
          "output_type": "execute_result",
          "data": {
            "text/plain": [
              "(array([2467.,    0.,    0.,    0.,    0.,    0.,    0.,    0.,    0.,\n",
              "        4033.]),\n",
              " array([0.00000000e+00, 3.06581069e-08, 6.13162138e-08, 9.19743208e-08,\n",
              "        1.22632428e-07, 1.53290535e-07, 1.83948642e-07, 2.14606748e-07,\n",
              "        2.45264855e-07, 2.75922962e-07, 3.06581069e-07]),\n",
              " <a list of 10 Patch objects>)"
            ]
          },
          "metadata": {
            "tags": []
          },
          "execution_count": 74
        },
        {
          "output_type": "display_data",
          "data": {
            "image/png": "[encoded data removed]",
            "text/plain": [
              "<Figure size 432x288 with 1 Axes>"
            ]
          },
          "metadata": {
            "tags": []
          }
        }
      ]
    },
    {
      "cell_type": "code",
      "metadata": {
        "id": "S9dF94-EHpl3",
        "colab_type": "code",
        "outputId": "623df943-36cc-4a8c-cab8-fab07ef25a49",
        "colab": {
          "base_uri": "https://localhost:8080/",
          "height": 1000
        }
      },
      "source": [
        "def boostrap_mean(sample,n_iterations):\n",
        "  import random \n",
        "  \n",
        "  data_mean11=np.array([])\n",
        "  for i in range(n_iterations):\n",
        "    sample1=np.random.choice(sample,size=5)\n",
        "    data_mean1=np.mean(sample1)\n",
        "    data_mean11=np.append(data_mean11,data_mean1)\n",
        "  data_mean=np.mean(data_mean11)  \n",
        "  print (data_mean)\n",
        "  lower=np.percentile(data_mean11,5)\n",
        "  upper=np.percentile(data_mean11,95)\n",
        "  return data_mean,lower,upper\n",
        "boots = []\n",
        "for i in range(100, 100000, 1000):\n",
        "    boot = boostrap_mean(train['Census_InternalBatteryType'], i)\n",
        "    boots.append([i, boot[0], \"mean\"])\n",
        "    boots.append([i, boot[1], \"lower\"])\n",
        "    boots.append([i, boot[2], \"upper\"])\n",
        "\n",
        "df_boot = pd.DataFrame(boots, columns=['Boostrap Iterations', 'Mean', \"Value\"])\n",
        "sns_plot = sns.lmplot(df_boot.columns[0], df_boot.columns[1], data=df_boot, fit_reg=False, hue=\"Value\")\n",
        "\n",
        "sns_plot.axes[0, 0].set_ylim(0,)\n",
        "sns_plot.axes[0, 0].set_xlim(0, 100000)\n",
        "boots = []\n",
        "for i in range(100, 100000, 1000):\n",
        "    boot = boostrap_mean(test['Census_InternalBatteryType'], i)\n",
        "    boots.append([i, boot[0], \"mean\"])\n",
        "    boots.append([i, boot[1], \"lower\"])\n",
        "    boots.append([i, boot[2], \"upper\"])\n",
        "\n",
        "df_boot = pd.DataFrame(boots, columns=['Boostrap Iterations', 'Mean', \"Value\"])\n",
        "sns_plot = sns.lmplot(df_boot.columns[0], df_boot.columns[1], data=df_boot, fit_reg=False, hue=\"Value\")\n",
        "\n",
        "sns_plot.axes[0, 0].set_ylim(0,)\n",
        "sns_plot.axes[0, 0].set_xlim(0, 100000)\n",
        "\n",
        "\n",
        "def boostrap_mean1(sample,n_iterations):\n",
        "  import random \n",
        "  \n",
        "  data_mean11=np.array([])\n",
        "  for i in range(n_iterations):\n",
        "    sample1=np.random.choice(sample,size=5)\n",
        "    data_mean1=np.mean(sample1)\n",
        "    data_mean11=np.append(data_mean11,data_mean1)\n",
        " \n",
        "  \n",
        "  lower=np.percentile(data_mean11,5)\n",
        "  upper=np.percentile(data_mean11,95)\n",
        "  data_mean1=data_mean11[(data_mean11>lower) & (data_mean11<upper)]  \n",
        "  data_mean=np.mean(data_mean1) \n",
        "  \n",
        " \n",
        "  return data_mean\n",
        "mean1=boostrap_mean1(train['Census_InternalBatteryType'], 10000 )\n",
        "mean2=boostrap_mean1(test['Census_InternalBatteryType'],10000 )\n",
        "\n",
        "T_obs=mean1-mean2\n",
        "\n",
        "\n",
        "data1=train['Census_InternalBatteryType']\n",
        "data2=test['Census_InternalBatteryType']\n",
        "new_data=np.concatenate([data1,data2])\n",
        "count=0\n",
        "for i in range(20000):\n",
        "  dat1=np.random.choice(new_data,7000)\n",
        "  dat2=np.random.choice(new_data,6000)\n",
        "  mean_dat1=np.mean(dat1)\n",
        "  mean_dat2=np.mean(dat2)\n",
        "  T_perm= mean_dat2-mean_dat1\n",
        "  if T_perm>T_obs:\n",
        "    count=count+1\n",
        "p_value=count/20000\n",
        "print(p_value)"
      ],
      "execution_count": 0,
      "outputs": [
        {
          "output_type": "stream",
          "text": [
            "50.78\n",
            "50.58872727272727\n",
            "50.85019047619048\n",
            "50.77754838709677\n",
            "50.84526829268293\n",
            "50.7523137254902\n",
            "50.80577049180327\n",
            "50.811098591549296\n",
            "50.74449382716049\n",
            "50.85105494505494\n",
            "50.74619801980198\n",
            "50.8103963963964\n",
            "50.806413223140495\n",
            "50.79709923664122\n",
            "50.82631205673759\n",
            "50.86150993377483\n",
            "50.82111801242236\n",
            "50.79025730994152\n",
            "50.78409944751381\n",
            "50.813193717277485\n",
            "50.814417910447766\n",
            "50.82348815165877\n",
            "50.81578280542987\n",
            "50.79451082251082\n",
            "50.82087136929461\n",
            "50.814573705179285\n",
            "50.75432183908046\n",
            "50.7920147601476\n",
            "50.796811387900355\n",
            "50.77483848797251\n",
            "50.79746179401993\n",
            "50.79773633440514\n",
            "50.78480996884735\n",
            "50.813927492447135\n",
            "50.81045161290322\n",
            "50.79321937321937\n",
            "50.79341274238228\n",
            "50.828641509433965\n",
            "50.79355905511811\n",
            "50.80347314578005\n",
            "50.803775561097254\n",
            "50.82424817518248\n",
            "50.792636579572445\n",
            "50.82373085846867\n",
            "50.782258503401366\n",
            "50.79923281596452\n",
            "50.8058655097614\n",
            "50.80653927813162\n",
            "50.79781288981289\n",
            "50.79921384928717\n",
            "50.79695808383234\n",
            "50.799612524461836\n",
            "50.776955854126676\n",
            "50.815476459510364\n",
            "50.825992606284665\n",
            "50.80500544464609\n",
            "50.797999999999995\n",
            "50.77663047285464\n",
            "50.814784853700516\n",
            "50.79822335025381\n",
            "50.784805324459235\n",
            "50.813600654664484\n",
            "50.77754911433173\n",
            "50.80600633914422\n",
            "50.79652418096724\n",
            "50.79703225806452\n",
            "50.80445083207261\n",
            "50.79239642324889\n",
            "50.808845814977964\n",
            "50.817502170767\n",
            "50.81839942938659\n",
            "50.80673417721519\n",
            "50.812693481276\n",
            "50.8050341997264\n",
            "50.817614035087715\n",
            "50.80131025299602\n",
            "50.799647831800264\n",
            "50.786207522697794\n",
            "50.803119078104984\n",
            "50.83163337547408\n",
            "50.788796504369536\n",
            "50.803482120838474\n",
            "50.79563702801462\n",
            "50.789663056558375\n",
            "50.807933412604044\n",
            "50.79458989424207\n",
            "50.80913821138212\n",
            "50.81459242250288\n",
            "50.80863110102156\n",
            "50.813342312008984\n",
            "50.808488346281905\n",
            "50.826243688254664\n",
            "50.82229098805646\n",
            "50.80324167561761\n",
            "50.80602125398513\n",
            "50.82293375394322\n",
            "50.810597294484914\n",
            "50.807897013388256\n",
            "50.80354536187564\n",
            "50.804044399596364\n",
            "18.338000000000005\n",
            "17.759636363636364\n",
            "17.690761904761906\n",
            "17.46516129032258\n",
            "17.64721951219512\n",
            "17.625098039215686\n",
            "17.490590163934428\n",
            "17.61712676056338\n",
            "17.59037037037037\n",
            "17.50123076923077\n",
            "17.525722772277227\n",
            "17.645351351351348\n",
            "17.622462809917355\n",
            "17.65926717557252\n",
            "17.600765957446807\n",
            "17.585788079470202\n",
            "17.612757763975157\n",
            "17.5306081871345\n",
            "17.642331491712707\n",
            "17.609623036649214\n",
            "17.622955223880595\n",
            "17.63516587677725\n",
            "17.60379185520362\n",
            "17.582649350649348\n",
            "17.606846473029048\n",
            "17.721131474103586\n",
            "17.616329501915708\n",
            "17.618671586715866\n",
            "17.631188612099645\n",
            "17.628226804123713\n",
            "17.621541528239202\n",
            "17.62046945337621\n",
            "17.636828660436137\n",
            "17.557202416918425\n",
            "17.619683284457476\n",
            "17.59643304843305\n",
            "17.588060941828253\n",
            "17.64376819407008\n",
            "17.68802099737533\n",
            "17.605514066496163\n",
            "17.602668329177057\n",
            "17.5747396593674\n",
            "17.597700712589074\n",
            "17.617387470997677\n",
            "17.61457596371882\n",
            "17.59043015521064\n",
            "17.602542299349242\n",
            "17.60272611464968\n",
            "17.60989604989605\n",
            "17.59129938900204\n",
            "17.620850299401198\n",
            "17.571682974559685\n",
            "17.60189251439539\n",
            "17.60772881355932\n",
            "17.642739371534198\n",
            "17.56284573502722\n",
            "17.58779322638146\n",
            "17.638584938704028\n",
            "17.60928055077453\n",
            "17.616730964467006\n",
            "17.538712146422625\n",
            "17.60517184942717\n",
            "17.60508534621578\n",
            "17.624779714738512\n",
            "17.65778159126365\n",
            "17.599569892473117\n",
            "17.595491679273827\n",
            "17.62672131147541\n",
            "17.608372980910428\n",
            "17.593406657018814\n",
            "17.588653352353777\n",
            "17.62926582278481\n",
            "17.58694313453537\n",
            "17.58879343365253\n",
            "17.62532253711201\n",
            "17.610439414114513\n",
            "17.60344546649146\n",
            "17.62892088197147\n",
            "17.580967989756722\n",
            "17.596872313527182\n",
            "17.633975031210987\n",
            "17.60415043156597\n",
            "17.631520097442145\n",
            "17.590243080625747\n",
            "17.625859690844234\n",
            "17.6049330199765\n",
            "17.593061556329854\n",
            "17.53249368541906\n",
            "17.618862656072643\n",
            "17.581863075196413\n",
            "17.613673695893453\n",
            "17.597975850713503\n",
            "17.5617328990228\n",
            "17.618953813104188\n",
            "17.582027630180658\n",
            "17.613411146161937\n",
            "17.58253485952133\n",
            "17.60849227600412\n",
            "17.610216106014267\n",
            "17.617073662966703\n",
            "0.0\n"
          ],
          "name": "stdout"
        },
        {
          "output_type": "display_data",
          "data": {
            "image/png": "[encoded data removed]",
            "text/plain": [
              "<Figure size 425.125x360 with 1 Axes>"
            ]
          },
          "metadata": {
            "tags": []
          }
        },
        {
          "output_type": "display_data",
          "data": {
            "image/png": "[encoded data removed]",
            "text/plain": [
              "<Figure size 425.125x360 with 1 Axes>"
            ]
          },
          "metadata": {
            "tags": []
          }
        }
      ]
    },
    {
      "cell_type": "code",
      "metadata": {
        "id": "tr_SYH8dZiXq",
        "colab_type": "code",
        "colab": {}
      },
      "source": [
        ""
      ],
      "execution_count": 0,
      "outputs": []
    }
  ]
}