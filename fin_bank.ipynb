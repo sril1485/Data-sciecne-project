{
  "nbformat": 4,
  "nbformat_minor": 0,
  "metadata": {
    "colab": {
      "name": "fin_bank.ipynb",
      "provenance": [],
      "collapsed_sections": [],
      "authorship_tag": "ABX9TyMA1vLOHMsuXJJ19hkLNZJV",
      "include_colab_link": true
    },
    "kernelspec": {
      "name": "python3",
      "display_name": "Python 3"
    },
    "accelerator": "TPU"
  },
  "cells": [
    {
      "cell_type": "markdown",
      "metadata": {
        "id": "view-in-github",
        "colab_type": "text"
      },
      "source": [
        "<a href=\"https://colab.research.google.com/github/sril1485/Data-sciecne-project/blob/master/fin_bank.ipynb\" target=\"_parent\"><img src=\"https://colab.research.google.com/assets/colab-badge.svg\" alt=\"Open In Colab\"/></a>"
      ]
    },
    {
      "cell_type": "code",
      "metadata": {
        "id": "OGZaIFtOIWoT",
        "colab_type": "code",
        "outputId": "c84c7611-543a-41d3-95eb-d0346c5ab1d7",
        "colab": {
          "base_uri": "https://localhost:8080/",
          "height": 289
        }
      },
      "source": [
        "import os\n",
        "\n",
        "os.environ['KAGGLE_USERNAME'] = \"srinidhikarthick\" # username from the json file\n",
        "\n",
        "os.environ['KAGGLE_KEY'] = \"15467a092669b85df36db57586c2dee5\" # key from the json file\n",
        "\n",
        "!kaggle competitions download -c sberbank-russian-housing-market"
      ],
      "execution_count": 0,
      "outputs": [
        {
          "output_type": "stream",
          "text": [
            "Warning: Looks like you're using an outdated API Version, please consider updating (server 1.5.6 / client 1.5.4)\n",
            "Downloading macro.csv.zip to /content\n",
            "  0% 0.00/66.5k [00:00<?, ?B/s]\n",
            "100% 66.5k/66.5k [00:00<00:00, 60.2MB/s]\n",
            "Downloading test.csv.zip to /content\n",
            "100% 4.46M/4.46M [00:00<00:00, 45.2MB/s]\n",
            "\n",
            "Downloading sample_submission.csv.zip to /content\n",
            "  0% 0.00/18.6k [00:00<?, ?B/s]\n",
            "100% 18.6k/18.6k [00:00<00:00, 15.3MB/s]\n",
            "Downloading train.csv.zip to /content\n",
            " 29% 5.00M/17.1M [00:00<00:00, 36.2MB/s]\n",
            "100% 17.1M/17.1M [00:00<00:00, 83.0MB/s]\n",
            "Downloading data_dictionary.txt to /content\n",
            "  0% 0.00/25.4k [00:00<?, ?B/s]\n",
            "100% 25.4k/25.4k [00:00<00:00, 25.8MB/s]\n"
          ],
          "name": "stdout"
        }
      ]
    },
    {
      "cell_type": "code",
      "metadata": {
        "id": "n2dB22DhIX93",
        "colab_type": "code",
        "outputId": "4f303968-c614-45c4-87cd-1256d7f72a0b",
        "colab": {
          "base_uri": "https://localhost:8080/",
          "height": 289
        }
      },
      "source": [
        "!unzip \\*.zip"
      ],
      "execution_count": 0,
      "outputs": [
        {
          "output_type": "stream",
          "text": [
            "Archive:  test.csv.zip\n",
            "  inflating: test.csv                \n",
            "   creating: __MACOSX/\n",
            "  inflating: __MACOSX/._test.csv     \n",
            "\n",
            "Archive:  macro.csv.zip\n",
            "  inflating: macro.csv               \n",
            "\n",
            "Archive:  sample_submission.csv.zip\n",
            "  inflating: sample_submission.csv   \n",
            "\n",
            "Archive:  train.csv.zip\n",
            "  inflating: train.csv               \n",
            "  inflating: __MACOSX/._train.csv    \n",
            "\n",
            "4 archives were successfully processed.\n"
          ],
          "name": "stdout"
        }
      ]
    },
    {
      "cell_type": "code",
      "metadata": {
        "id": "15HSc2I3IbrA",
        "colab_type": "code",
        "colab": {}
      },
      "source": [
        "import numpy as np\n",
        "import pandas as pd\n",
        "import matplotlib.pyplot as plt\n",
        "import seaborn as sns\n",
        "%matplotlib inline\n",
        "import warnings\n",
        "warnings.filterwarnings('ignore')\n",
        "from sklearn.ensemble import RandomForestRegressor\n",
        "from sklearn.ensemble import RandomForestClassifier\n",
        "from sklearn.model_selection import cross_val_score\n",
        "from sklearn.preprocessing import LabelEncoder"
      ],
      "execution_count": 0,
      "outputs": []
    },
    {
      "cell_type": "code",
      "metadata": {
        "id": "THuwJZ7DIexa",
        "colab_type": "code",
        "colab": {}
      },
      "source": [
        "import pandas as pd\n",
        "train = pd.read_csv(\"train.csv\")\n",
        "test = pd.read_csv(\"test.csv\")"
      ],
      "execution_count": 0,
      "outputs": []
    },
    {
      "cell_type": "code",
      "metadata": {
        "id": "ame4NgyoIilP",
        "colab_type": "code",
        "outputId": "93802a1d-8838-44aa-a598-c33c09561e49",
        "colab": {
          "base_uri": "https://localhost:8080/",
          "height": 34
        }
      },
      "source": [
        "test.shape"
      ],
      "execution_count": 0,
      "outputs": [
        {
          "output_type": "execute_result",
          "data": {
            "text/plain": [
              "(7662, 291)"
            ]
          },
          "metadata": {
            "tags": []
          },
          "execution_count": 7
        }
      ]
    },
    {
      "cell_type": "code",
      "metadata": {
        "id": "fekV78zkIoef",
        "colab_type": "code",
        "colab": {}
      },
      "source": [
        "import numpy as np\n",
        "## missing values\n",
        "for i in train.columns:\n",
        "    if train[i].dtype == 'object':\n",
        "      train[i] = train[i].fillna(train[i].mode().iloc[0])\n",
        "    if (train[i].dtype == 'int' or train[i].dtype == 'float'):\n",
        "      train[i] = train[i].fillna(np.mean(train[i]))\n",
        "#missing values for \n",
        "for i in test.columns:\n",
        "    if test[i].dtype == 'object':\n",
        "      test[i] = test[i].fillna(test[i].mode().iloc[0])\n",
        "    if (test[i].dtype == 'int' or test[i].dtype == 'float'):\n",
        "      test[i] = test[i].fillna(np.mean(test[i]))\n",
        "\n"
      ],
      "execution_count": 0,
      "outputs": []
    },
    {
      "cell_type": "code",
      "metadata": {
        "id": "wqnLnZUhIzcw",
        "colab_type": "code",
        "colab": {}
      },
      "source": [
        "lenc = LabelEncoder()\n",
        "for i in train.columns:\n",
        "    if (train[i].dtype == 'object'):\n",
        "      train[i] = lenc.fit_transform(train[i].astype('str'))\n",
        "      train[i] = train[i].astype('object')\n",
        "\n",
        "for i in test.columns:\n",
        "    if (test[i].dtype == 'object'):\n",
        "      test[i] = lenc.fit_transform(test[i].astype('str'))\n",
        "      test[i] = test[i].astype('object')"
      ],
      "execution_count": 0,
      "outputs": []
    },
    {
      "cell_type": "code",
      "metadata": {
        "id": "NPjQREJfI3ag",
        "colab_type": "code",
        "colab": {}
      },
      "source": [
        "training = train.drop('price_doc',axis=1)"
      ],
      "execution_count": 0,
      "outputs": []
    },
    {
      "cell_type": "code",
      "metadata": {
        "id": "2d4OwkNPI594",
        "colab_type": "code",
        "colab": {}
      },
      "source": [
        "train['source'] = 0\n",
        "test['source'] = 1"
      ],
      "execution_count": 0,
      "outputs": []
    },
    {
      "cell_type": "code",
      "metadata": {
        "id": "2bWfZR7-I7fY",
        "colab_type": "code",
        "colab": {}
      },
      "source": [
        "## taking sample from training and test data\n",
        "training = training.sample(5000, random_state=12)\n",
        "testing = test.sample(5000, random_state=11)"
      ],
      "execution_count": 0,
      "outputs": []
    },
    {
      "cell_type": "code",
      "metadata": {
        "id": "ck-f_wpAI81I",
        "colab_type": "code",
        "colab": {}
      },
      "source": [
        "## combining random samples\n",
        "combined = training.append(testing)\n",
        "y = combined['source']\n",
        "combined.drop('source',axis=1,inplace=True)"
      ],
      "execution_count": 0,
      "outputs": []
    },
    {
      "cell_type": "code",
      "metadata": {
        "id": "lwbvUIuwI-Io",
        "colab_type": "code",
        "outputId": "4c89ab3f-ca19-45d6-b510-7b1e786d17d7",
        "colab": {
          "base_uri": "https://localhost:8080/",
          "height": 170
        }
      },
      "source": [
        "## modelling\n",
        "model = RandomForestClassifier(n_estimators = 50, max_depth = 5,min_samples_leaf = 5)\n",
        "drop_list = []\n",
        "for i in combined.columns:\n",
        "    score = cross_val_score(model,pd.DataFrame(combined[i]),y,cv=2,scoring='roc_auc')\n",
        "    if (np.mean(score) > 0.8):\n",
        "        drop_list.append(i)\n",
        "        print(i,np.mean(score))"
      ],
      "execution_count": 0,
      "outputs": [
        {
          "output_type": "stream",
          "text": [
            "id 1.0\n",
            "timestamp 0.9591851199999999\n",
            "life_sq 0.85843088\n",
            "build_year 0.8013424\n",
            "kitch_sq 0.8990242000000002\n",
            "hospital_beds_raion 0.88476004\n",
            "cafe_sum_500_min_price_avg 0.84287168\n",
            "cafe_sum_500_max_price_avg 0.84167752\n",
            "cafe_avg_price_500 0.8438894799999999\n"
          ],
          "name": "stdout"
        }
      ]
    },
    {
      "cell_type": "code",
      "metadata": {
        "id": "n4DZOK_jI_nw",
        "colab_type": "code",
        "outputId": "c2d33c50-137f-49ec-c92f-ab57c5772bee",
        "colab": {
          "base_uri": "https://localhost:8080/",
          "height": 296
        }
      },
      "source": [
        "import seaborn as sns\n",
        "sns.distplot(training['timestamp'])\n",
        "sns.distplot(testing['timestamp'])"
      ],
      "execution_count": 0,
      "outputs": [
        {
          "output_type": "execute_result",
          "data": {
            "text/plain": [
              "<matplotlib.axes._subplots.AxesSubplot at 0x7fae3938fb70>"
            ]
          },
          "metadata": {
            "tags": []
          },
          "execution_count": 27
        },
        {
          "output_type": "display_data",
          "data": {
            "image/png": "[encoded data removed]",
            "text/plain": [
              "<Figure size 432x288 with 1 Axes>"
            ]
          },
          "metadata": {
            "tags": []
          }
        }
      ]
    },
    {
      "cell_type": "code",
      "metadata": {
        "id": "S38OGaZJJGdC",
        "colab_type": "code",
        "outputId": "cdd3d520-eb6e-40e4-ede0-395bedfe3580",
        "colab": {
          "base_uri": "https://localhost:8080/",
          "height": 297
        }
      },
      "source": [
        "import seaborn as sns\n",
        "sns.distplot(training['life_sq'])\n",
        "sns.distplot(testing['life_sq'])"
      ],
      "execution_count": 0,
      "outputs": [
        {
          "output_type": "execute_result",
          "data": {
            "text/plain": [
              "<matplotlib.axes._subplots.AxesSubplot at 0x7fae385e5fd0>"
            ]
          },
          "metadata": {
            "tags": []
          },
          "execution_count": 28
        },
        {
          "output_type": "display_data",
          "data": {
            "image/png": "[encoded data removed]",
            "text/plain": [
              "<Figure size 432x288 with 1 Axes>"
            ]
          },
          "metadata": {
            "tags": []
          }
        }
      ]
    },
    {
      "cell_type": "code",
      "metadata": {
        "id": "r4-9qziyJH7y",
        "colab_type": "code",
        "outputId": "665378f9-d2dd-4a5b-c786-d2ed65aedcf7",
        "colab": {
          "base_uri": "https://localhost:8080/",
          "height": 297
        }
      },
      "source": [
        "import seaborn as sns\n",
        "sns.distplot(training['kitch_sq'])\n",
        "sns.distplot(testing['kitch_sq'])"
      ],
      "execution_count": 0,
      "outputs": [
        {
          "output_type": "execute_result",
          "data": {
            "text/plain": [
              "<matplotlib.axes._subplots.AxesSubplot at 0x7fae384a9470>"
            ]
          },
          "metadata": {
            "tags": []
          },
          "execution_count": 29
        },
        {
          "output_type": "display_data",
          "data": {
            "image/png": "[encoded data removed]",
            "text/plain": [
              "<Figure size 432x288 with 1 Axes>"
            ]
          },
          "metadata": {
            "tags": []
          }
        }
      ]
    },
    {
      "cell_type": "code",
      "metadata": {
        "id": "IebTuCcUJJSq",
        "colab_type": "code",
        "outputId": "85c133e4-e5fb-4961-be66-d83b9fd5fb75",
        "colab": {
          "base_uri": "https://localhost:8080/",
          "height": 297
        }
      },
      "source": [
        "import seaborn as sns\n",
        "sns.distplot(training['hospital_beds_raion'])\n",
        "sns.distplot(testing['hospital_beds_raion'])"
      ],
      "execution_count": 0,
      "outputs": [
        {
          "output_type": "execute_result",
          "data": {
            "text/plain": [
              "<matplotlib.axes._subplots.AxesSubplot at 0x7fae382ad588>"
            ]
          },
          "metadata": {
            "tags": []
          },
          "execution_count": 30
        },
        {
          "output_type": "display_data",
          "data": {
            "image/png": "[encoded data removed]",
            "text/plain": [
              "<Figure size 432x288 with 1 Axes>"
            ]
          },
          "metadata": {
            "tags": []
          }
        }
      ]
    },
    {
      "cell_type": "code",
      "metadata": {
        "id": "9B3Jh8VkJKsA",
        "colab_type": "code",
        "outputId": "816a5075-c079-421e-d6a9-21cd76864dee",
        "colab": {
          "base_uri": "https://localhost:8080/",
          "height": 297
        }
      },
      "source": [
        "import seaborn as sns\n",
        "sns.distplot(training['cafe_sum_500_min_price_avg'])\n",
        "sns.distplot(testing['cafe_sum_500_min_price_avg'])"
      ],
      "execution_count": 0,
      "outputs": [
        {
          "output_type": "execute_result",
          "data": {
            "text/plain": [
              "<matplotlib.axes._subplots.AxesSubplot at 0x7fae38b4f550>"
            ]
          },
          "metadata": {
            "tags": []
          },
          "execution_count": 31
        },
        {
          "output_type": "display_data",
          "data": {
            "image/png": "[encoded data removed]",
            "text/plain": [
              "<Figure size 432x288 with 1 Axes>"
            ]
          },
          "metadata": {
            "tags": []
          }
        }
      ]
    },
    {
      "cell_type": "code",
      "metadata": {
        "id": "Wwfm9vY7JME6",
        "colab_type": "code",
        "outputId": "f0622615-d1d5-48b0-b2f2-0c36e8d16c3e",
        "colab": {
          "base_uri": "https://localhost:8080/",
          "height": 301
        }
      },
      "source": [
        "import seaborn as sns\n",
        "sns.distplot(training['cafe_sum_500_max_price_avg'])\n",
        "sns.distplot(testing['cafe_sum_500_max_price_avg'])"
      ],
      "execution_count": 0,
      "outputs": [
        {
          "output_type": "execute_result",
          "data": {
            "text/plain": [
              "<matplotlib.axes._subplots.AxesSubplot at 0x7fae3810deb8>"
            ]
          },
          "metadata": {
            "tags": []
          },
          "execution_count": 32
        },
        {
          "output_type": "display_data",
          "data": {
            "image/png": "[encoded data removed]",
            "text/plain": [
              "<Figure size 432x288 with 1 Axes>"
            ]
          },
          "metadata": {
            "tags": []
          }
        }
      ]
    },
    {
      "cell_type": "code",
      "metadata": {
        "id": "-4IurmiEJNlj",
        "colab_type": "code",
        "outputId": "20a171c7-861a-400d-eccc-2cea3c496b6b",
        "colab": {
          "base_uri": "https://localhost:8080/",
          "height": 297
        }
      },
      "source": [
        "import seaborn as sns\n",
        "sns.distplot(training['cafe_avg_price_500'])\n",
        "sns.distplot(testing['cafe_avg_price_500'])"
      ],
      "execution_count": 0,
      "outputs": [
        {
          "output_type": "execute_result",
          "data": {
            "text/plain": [
              "<matplotlib.axes._subplots.AxesSubplot at 0x7fae3845c3c8>"
            ]
          },
          "metadata": {
            "tags": []
          },
          "execution_count": 33
        },
        {
          "output_type": "display_data",
          "data": {
            "image/png": "[encoded data removed]",
            "text/plain": [
              "<Figure size 432x288 with 1 Axes>"
            ]
          },
          "metadata": {
            "tags": []
          }
        }
      ]
    },
    {
      "cell_type": "code",
      "metadata": {
        "id": "QfXOI3_sJP7r",
        "colab_type": "code",
        "colab": {}
      },
      "source": [
        "def boostrap_mean(sample,n_iterations):\n",
        "  import random \n",
        "  \n",
        "  data_mean11=np.array([])\n",
        "  for i in range(n_iterations):\n",
        "    sample1=np.random.choice(sample,size=5)\n",
        "    data_mean1=np.mean(sample1)\n",
        "    data_mean11=np.append(data_mean11,data_mean1)\n",
        "  data_mean=np.mean(data_mean11)  \n",
        "  \n",
        "  lower=np.percentile(data_mean11,5)\n",
        "  upper=np.percentile(data_mean11,95)\n",
        "  return data_mean,lower,upper\n",
        "boots = []\n",
        "for i in range(100, 100000, 1000):\n",
        "    boot = boostrap_mean(train['timestamp'], i)\n",
        "    boots.append([i, boot[0], \"mean\"])\n",
        "    boots.append([i, boot[1], \"lower\"])\n",
        "    boots.append([i, boot[2], \"upper\"])\n",
        "\n",
        "df_boot = pd.DataFrame(boots, columns=['Boostrap Iterations', 'Mean', \"Value\"])\n",
        "sns_plot = sns.lmplot(df_boot.columns[0], df_boot.columns[1], data=df_boot, fit_reg=False, hue=\"Value\")\n",
        "\n",
        "sns_plot.axes[0, 0].set_ylim(0,)\n",
        "sns_plot.axes[0, 0].set_xlim(0, 1000)\n",
        "boots = []\n",
        "for i in range(100, 100000, 1000):\n",
        "    boot = boostrap_mean(test['timestamp'], i)\n",
        "    boots.append([i, boot[0], \"mean\"])\n",
        "    boots.append([i, boot[1], \"lower\"])\n",
        "    boots.append([i, boot[2], \"upper\"])\n",
        "\n",
        "df_boot = pd.DataFrame(boots, columns=['Boostrap Iterations', 'Mean', \"Value\"])\n",
        "sns_plot = sns.lmplot(df_boot.columns[0], df_boot.columns[1], data=df_boot, fit_reg=False, hue=\"Value\")\n",
        "\n",
        "sns_plot.axes[0, 0].set_ylim(0,)\n",
        "sns_plot.axes[0, 0].set_xlim(0, 1000)\n",
        "\n",
        "\n",
        "def boostrap_mean1(sample,n_iterations):\n",
        "  import random \n",
        "  \n",
        "  data_mean11=np.array([])\n",
        "  for i in range(n_iterations):\n",
        "    sample1=np.random.choice(sample,size=5)\n",
        "    data_mean1=np.mean(sample1)\n",
        "    data_mean11=np.append(data_mean11,data_mean1)\n",
        " \n",
        "  \n",
        "  lower=np.percentile(data_mean11,5)\n",
        "  upper=np.percentile(data_mean11,95)\n",
        "  data_mean1=data_mean11[(data_mean11>lower) & (data_mean11<upper)]  \n",
        "  data_mean=np.mean(data_mean1) \n",
        "  \n",
        " \n",
        "  return data_mean\n",
        "mean1=boostrap_mean1(train['timestamp'], 10000 )\n",
        "mean2=boostrap_mean1(test['timestamp'],10000 )\n",
        "\n",
        "T_obs=mean1-mean2\n",
        "\n",
        "\n",
        "data1=train['timestamp']\n",
        "data2=test['timestamp']\n",
        "new_data=np.concatenate([data1,data2])\n",
        "count=0\n",
        "for i in range(20000):\n",
        "  dat1=np.random.choice(new_data,7000)\n",
        "  dat2=np.random.choice(new_data,6000)\n",
        "  mean_dat1=np.mean(dat1)\n",
        "  mean_dat2=np.mean(dat2)\n",
        "  T_perm= mean_dat2-mean_dat1\n",
        "  if T_perm>T_obs:\n",
        "    count=count+1\n",
        "p_value=count/20000\n",
        "print(p_value)"
      ],
      "execution_count": 0,
      "outputs": []
    },
    {
      "cell_type": "code",
      "metadata": {
        "id": "ja3rX0D2Jkeq",
        "colab_type": "code",
        "colab": {}
      },
      "source": [
        ""
      ],
      "execution_count": 0,
      "outputs": []
    }
  ]
}